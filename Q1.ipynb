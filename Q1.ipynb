{
 "cells": [
  {
   "cell_type": "code",
   "execution_count": 4,
   "id": "cd6ae45c",
   "metadata": {},
   "outputs": [
    {
     "name": "stdout",
     "output_type": "stream",
     "text": [
      "Numeric Numpy Array Items =  [19, 19, 20, 22, 24, 24, 24, 25, 25, 26]\n",
      "The Smallest age =  19\n",
      "The maximum age  =  26\n"
     ]
    }
   ],
   "source": [
    "# Sort the list and find the min and max age\n",
    "# here we declare the function to check for maximum number\n",
    "import numpy as np\n",
    "\n",
    "#ages array\n",
    "age = [19, 22, 19, 24, 20, 25, 26, 24, 25, 24]\n",
    "age.sort()\n",
    "\n",
    "#final output of max and min age\n",
    "print(\"Numeric Numpy Array Items = \", age)\n",
    "print(\"The Smallest age = \", min(age))\n",
    "print(\"The maximum age  = \", max(age))"
   ]
  },
  {
   "cell_type": "code",
   "execution_count": 9,
   "id": "94977e30",
   "metadata": {},
   "outputs": [
    {
     "name": "stdout",
     "output_type": "stream",
     "text": [
      "[19, 19, 19, 19, 20, 22, 24, 24, 24, 25, 25, 26, 26, 26]\n"
     ]
    }
   ],
   "source": [
    "#Add the min age and the max age again to the list\n",
    "age.append(min(age)) \n",
    "age.append(max(age))\n",
    "age.sort()\n",
    "print(age)"
   ]
  },
  {
   "cell_type": "code",
   "execution_count": 11,
   "id": "50924902",
   "metadata": {},
   "outputs": [
    {
     "name": "stdout",
     "output_type": "stream",
     "text": [
      "sorted array [19, 19, 19, 19, 20, 22, 24, 24, 24, 25, 25, 26, 26, 26]\n",
      "Median of the age : 24.0\n"
     ]
    }
   ],
   "source": [
    "#Find the median age (one middle item or two middle items divided by two)\n",
    "print(\"sorted array\",age)\n",
    "mid = len(age) // 2\n",
    "res = (age[mid] + age[~mid]) / 2\n",
    "  \n",
    "# Printing result\n",
    "print(\"Median of the age : \" + str(res))"
   ]
  },
  {
   "cell_type": "code",
   "execution_count": 13,
   "id": "ca4cb0ff",
   "metadata": {},
   "outputs": [
    {
     "name": "stdout",
     "output_type": "stream",
     "text": [
      "ages array list :  [19, 19, 19, 19, 20, 22, 24, 24, 24, 25, 25, 26, 26, 26]\n",
      "Average age = 22.71\n"
     ]
    }
   ],
   "source": [
    "#Find the average age (sum of all items divided by their number)\n",
    "\n",
    "def Average(age):\n",
    "    return sum(age) / len(age)\n",
    "  \n",
    "average = Average(age)\n",
    "print(\"ages array list : \",age)\n",
    "  \n",
    "#average age\n",
    "print(\"Average age =\", round(average, 2))\n"
   ]
  },
  {
   "cell_type": "code",
   "execution_count": 14,
   "id": "96ead0c3",
   "metadata": {},
   "outputs": [
    {
     "name": "stdout",
     "output_type": "stream",
     "text": [
      "min 19 0\n",
      "max 26 11\n",
      "Range :  7\n"
     ]
    }
   ],
   "source": [
    "#Find the range of the ages (max minus min)\n",
    "temp = sorted(age)\n",
    "\n",
    "# sorted list\n",
    "\n",
    "min = temp[0]\n",
    "max = temp[-1]\n",
    "\n",
    "# index -1 will give the last element\n",
    "\n",
    "print (\"min\", min, age.index(min))\n",
    "print (\"max\", max, age.index(max))\n",
    "print (\"Range : \", max - min)"
   ]
  },
  {
   "cell_type": "code",
   "execution_count": null,
   "id": "5c6d0dd9",
   "metadata": {},
   "outputs": [],
   "source": []
  }
 ],
 "metadata": {
  "kernelspec": {
   "display_name": "Python 3 (ipykernel)",
   "language": "python",
   "name": "python3"
  },
  "language_info": {
   "codemirror_mode": {
    "name": "ipython",
    "version": 3
   },
   "file_extension": ".py",
   "mimetype": "text/x-python",
   "name": "python",
   "nbconvert_exporter": "python",
   "pygments_lexer": "ipython3",
   "version": "3.9.12"
  }
 },
 "nbformat": 4,
 "nbformat_minor": 5
}
