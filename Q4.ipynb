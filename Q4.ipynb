{
 "cells": [
  {
   "cell_type": "code",
   "execution_count": 2,
   "id": "ced39739",
   "metadata": {},
   "outputs": [],
   "source": [
    "#given data set\n",
    "it_companies = [\"Facebook\", \"Google\",\" Microsoft\", \"Apple\", \"IBM\", \"Oracle\", \"Amazon\"]\n",
    "A = {19, 22, 24, 20, 25, 26}\n",
    "B = {19, 22, 20, 25, 26, 24, 28, 27}\n",
    "age = [22, 19, 24, 25, 26, 24, 25, 24]"
   ]
  },
  {
   "cell_type": "code",
   "execution_count": 3,
   "id": "10b108b7",
   "metadata": {},
   "outputs": [
    {
     "data": {
      "text/plain": [
       "7"
      ]
     },
     "execution_count": 3,
     "metadata": {},
     "output_type": "execute_result"
    }
   ],
   "source": [
    "#Find the length of the set it_companies\n",
    "len(it_companies)"
   ]
  },
  {
   "cell_type": "code",
   "execution_count": 4,
   "id": "d7a27ca4",
   "metadata": {},
   "outputs": [
    {
     "name": "stdout",
     "output_type": "stream",
     "text": [
      "['Facebook', 'Google', ' Microsoft', 'Apple', 'IBM', 'Oracle', 'Amazon', 'twitter']\n"
     ]
    }
   ],
   "source": [
    "#Add 'Twitter' to it_companies\n",
    "it_companies.append('twitter')\n",
    "print(it_companies)\n",
    "\n"
   ]
  },
  {
   "cell_type": "code",
   "execution_count": 5,
   "id": "65236a8b",
   "metadata": {},
   "outputs": [
    {
     "name": "stdout",
     "output_type": "stream",
     "text": [
      "['Facebook', 'Google', ' Microsoft', 'Apple', 'IBM', 'Oracle', 'Amazon', 'twitter', 'at&t', 'paytm', 'Jp morgan', 'dell', 'hp']\n"
     ]
    }
   ],
   "source": [
    "#Insert multiple IT companies at once to the set it_companies\n",
    "it_companies.extend([\"at&t\",\"paytm\",\"Jp morgan\",\"dell\",\"hp\"])\n",
    "print(it_companies)"
   ]
  },
  {
   "cell_type": "code",
   "execution_count": 60,
   "id": "7ffec578",
   "metadata": {},
   "outputs": [
    {
     "name": "stdout",
     "output_type": "stream",
     "text": [
      "['Facebook', 'Google', ' Microsoft', 'Apple', 'IBM', 'Oracle', 'Amazon', 'twitter', 'cognizent']\n"
     ]
    }
   ],
   "source": [
    "#Remove one of the companies from the set it_companies\n",
    "it_companies.remove('paytm')\n",
    "print(it_companies)"
   ]
  },
  {
   "cell_type": "code",
   "execution_count": 61,
   "id": "9c1abdeb",
   "metadata": {},
   "outputs": [
    {
     "name": "stdout",
     "output_type": "stream",
     "text": [
      "remove is a method where it shows an error when value does not exist but discard method does not show an error.\n"
     ]
    }
   ],
   "source": [
    "#What is the difference between remove and discard\n",
    "print(\"remove is a method where it shows an error when value does not exist but discard method does not show an error.\")"
   ]
  },
  {
   "cell_type": "code",
   "execution_count": 6,
   "id": "11154363",
   "metadata": {},
   "outputs": [
    {
     "name": "stdout",
     "output_type": "stream",
     "text": [
      "list after union {19, 20, 22, 24, 25, 26, 27, 28}\n",
      "list after intersection {19, 20, 22, 24, 25, 26}\n",
      "for subset it is True\n",
      "for disjoint it is False\n"
     ]
    }
   ],
   "source": [
    "#Join A and B\n",
    "a_union_b=A.union(B)\n",
    "a_intersection_b=A.intersection(B)\n",
    "a_subset_b=A.issubset(B)\n",
    "a_disjoint_b = A.isdisjoint(B)\n",
    "print('list after union',a_union_b)\n",
    "print('list after intersection',a_intersection_b)\n",
    "print('for subset it is',a_subset_b)\n",
    "print('for disjoint it is',a_disjoint_b)"
   ]
  },
  {
   "cell_type": "code",
   "execution_count": 73,
   "id": "456b618c",
   "metadata": {},
   "outputs": [
    {
     "name": "stdout",
     "output_type": "stream",
     "text": [
      "{27, 28}\n"
     ]
    }
   ],
   "source": [
    "#What is the symmetric difference between A and B\n",
    "a_symmetric_difference_b = A.symmetric_difference(B)\n",
    "print(a_symmetric_difference_b)"
   ]
  },
  {
   "cell_type": "code",
   "execution_count": 74,
   "id": "f9cf7d1c",
   "metadata": {},
   "outputs": [
    {
     "name": "stdout",
     "output_type": "stream",
     "text": [
      "set()\n",
      "set()\n"
     ]
    }
   ],
   "source": [
    "#Delete the sets completely\n",
    "A.clear()\n",
    "B.clear()\n",
    "print (A)\n",
    "print (B)\n"
   ]
  },
  {
   "cell_type": "code",
   "execution_count": 75,
   "id": "3b74cffd",
   "metadata": {},
   "outputs": [
    {
     "name": "stdout",
     "output_type": "stream",
     "text": [
      "{19, 22, 24, 25, 26}\n",
      "difference between length of age 3\n"
     ]
    }
   ],
   "source": [
    "#Convert the ages to a set and compare the length of the list and the set.\n",
    "age_set=set(age)\n",
    "print(age_set)\n",
    "print (\"difference between length of age\",len(age)-len(age_set))"
   ]
  }
 ],
 "metadata": {
  "kernelspec": {
   "display_name": "Python 3 (ipykernel)",
   "language": "python",
   "name": "python3"
  },
  "language_info": {
   "codemirror_mode": {
    "name": "ipython",
    "version": 3
   },
   "file_extension": ".py",
   "mimetype": "text/x-python",
   "name": "python",
   "nbconvert_exporter": "python",
   "pygments_lexer": "ipython3",
   "version": "3.9.12"
  }
 },
 "nbformat": 4,
 "nbformat_minor": 5
}
