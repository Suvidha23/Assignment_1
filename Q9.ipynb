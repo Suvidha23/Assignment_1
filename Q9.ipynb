{
 "cells": [
  {
   "cell_type": "code",
   "execution_count": 2,
   "id": "fb645e41",
   "metadata": {},
   "outputs": [
    {
     "name": "stdout",
     "output_type": "stream",
     "text": [
      "enter no of students1\n",
      "enter weight0120\n",
      "convertion of weight in lbs  [120]\n",
      "cionvertion of weight in kgs  [54.47]\n"
     ]
    }
   ],
   "source": [
    "#Write a program, which reads weights (lbs.) of N students into a list and convert these weights to\n",
    "students = int(input(\"enter no of students\"))\n",
    "#creating empty list\n",
    "weight_in_lbs = []\n",
    "weight_in_kgs = []\n",
    "for stu in range(students):\n",
    "    # get the input of data and adding up to the list\n",
    "    weight_in_lbs.append(int(input(\"enter weight\"+str(stu)+\"\"))) \n",
    "    #converting lbs to kgs\n",
    "    weight_in_kgs.append(round(weight_in_lbs[stu]*0.45392,2))\n",
    "    print(\"convertion of weight in lbs \",weight_in_lbs)\n",
    "    print(\"cionvertion of weight in kgs \",weight_in_kgs)"
   ]
  },
  {
   "cell_type": "code",
   "execution_count": null,
   "id": "02cc9253",
   "metadata": {},
   "outputs": [],
   "source": []
  }
 ],
 "metadata": {
  "kernelspec": {
   "display_name": "Python 3 (ipykernel)",
   "language": "python",
   "name": "python3"
  },
  "language_info": {
   "codemirror_mode": {
    "name": "ipython",
    "version": 3
   },
   "file_extension": ".py",
   "mimetype": "text/x-python",
   "name": "python",
   "nbconvert_exporter": "python",
   "pygments_lexer": "ipython3",
   "version": "3.9.12"
  }
 },
 "nbformat": 4,
 "nbformat_minor": 5
}
