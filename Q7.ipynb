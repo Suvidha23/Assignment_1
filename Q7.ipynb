{
 "cells": [
  {
   "cell_type": "code",
   "execution_count": 2,
   "id": "e3ad5648",
   "metadata": {},
   "outputs": [
    {
     "name": "stdout",
     "output_type": "stream",
     "text": [
      "name\tage\tcountry  \tcity\n",
      "SUVIDHA\t29\tamerica \twarrensburg\n"
     ]
    }
   ],
   "source": [
    "#Use a tab escape sequence to get the following lines.\n",
    "print(\"name\\tage\\tcountry  \\tcity\\nSUVIDHA\\t29\\tamerica \\twarrensburg\")"
   ]
  },
  {
   "cell_type": "code",
   "execution_count": null,
   "id": "5fbcad2d",
   "metadata": {},
   "outputs": [],
   "source": []
  }
 ],
 "metadata": {
  "kernelspec": {
   "display_name": "Python 3 (ipykernel)",
   "language": "python",
   "name": "python3"
  },
  "language_info": {
   "codemirror_mode": {
    "name": "ipython",
    "version": 3
   },
   "file_extension": ".py",
   "mimetype": "text/x-python",
   "name": "python",
   "nbconvert_exporter": "python",
   "pygments_lexer": "ipython3",
   "version": "3.9.12"
  }
 },
 "nbformat": 4,
 "nbformat_minor": 5
}
