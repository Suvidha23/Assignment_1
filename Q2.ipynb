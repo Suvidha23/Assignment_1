{
 "cells": [
  {
   "cell_type": "code",
   "execution_count": 14,
   "id": "8ab761eb",
   "metadata": {},
   "outputs": [],
   "source": [
    "#Add name, color, breed, legs, age to the dog dictionary\n",
    "#Create a student dictionary and add first_name, last_name, gender, age, marital status,.......\n",
    "dog = {'name','color','breed','legs','age'}\n",
    "student = {'first_name ': 'suvidha reddy','last_name': 'manda','gender': 'female','age': '29','marital status': 'married','skills':[ 'machine learning','artificial intelligence'],'country':'america','city':'missouri','address':'warrensburg'}"
   ]
  },
  {
   "cell_type": "code",
   "execution_count": 15,
   "id": "b79c378f",
   "metadata": {},
   "outputs": [
    {
     "name": "stdout",
     "output_type": "stream",
     "text": [
      "9\n"
     ]
    }
   ],
   "source": [
    "#Get the length of the student dictionary\n",
    "print(len(student))"
   ]
  },
  {
   "cell_type": "code",
   "execution_count": 16,
   "id": "ff0c232f",
   "metadata": {},
   "outputs": [
    {
     "name": "stdout",
     "output_type": "stream",
     "text": [
      "manda\n",
      "america\n",
      "['machine learning', 'artificial intelligence']\n",
      "missouri\n"
     ]
    }
   ],
   "source": [
    "#Get the value of skills and check the data type, it should be a list\n",
    "\n",
    "print(student.get('last_name')) \n",
    "print(student.get('country'))    \n",
    "print(student.get('skills')) \n",
    "print(student.get('city'))"
   ]
  },
  {
   "cell_type": "code",
   "execution_count": 17,
   "id": "eaac123c",
   "metadata": {},
   "outputs": [
    {
     "name": "stdout",
     "output_type": "stream",
     "text": [
      "{'first_name ': 'suvidha reddy', 'last_name': 'manda', 'gender': 'female', 'age': '29', 'marital status': 'married', 'skills': ['machine learning', 'artificial intelligence', 'angular'], 'country': 'america', 'city': 'missouri', 'address': 'warrensburg', 'library': 'books'}\n"
     ]
    }
   ],
   "source": [
    "#Modify the skills values by adding one or two skills\n",
    "\n",
    "student['library'] = 'books'\n",
    "student['skills'].append('angular')\n",
    "print(student)\n",
    "\n",
    "\n"
   ]
  },
  {
   "cell_type": "code",
   "execution_count": 18,
   "id": "6aaed2a7",
   "metadata": {},
   "outputs": [
    {
     "name": "stdout",
     "output_type": "stream",
     "text": [
      "dict_keys(['first_name ', 'last_name', 'gender', 'age', 'marital status', 'skills', 'country', 'city', 'address', 'library'])\n"
     ]
    }
   ],
   "source": [
    "#Get the dictionary keys as a list\n",
    "keys = student.keys()\n",
    "print(keys)   "
   ]
  },
  {
   "cell_type": "code",
   "execution_count": 19,
   "id": "50ab28f8",
   "metadata": {},
   "outputs": [
    {
     "name": "stdout",
     "output_type": "stream",
     "text": [
      "dict_values(['suvidha reddy', 'manda', 'female', '29', 'married', ['machine learning', 'artificial intelligence', 'angular'], 'america', 'missouri', 'warrensburg', 'books'])\n"
     ]
    }
   ],
   "source": [
    "#Get the dictionary values as a list\n",
    "values = student.values()\n",
    "print(values)"
   ]
  },
  {
   "cell_type": "code",
   "execution_count": null,
   "id": "58c7f1dc",
   "metadata": {},
   "outputs": [],
   "source": []
  },
  {
   "cell_type": "code",
   "execution_count": null,
   "id": "6c606426",
   "metadata": {},
   "outputs": [],
   "source": []
  }
 ],
 "metadata": {
  "kernelspec": {
   "display_name": "Python 3 (ipykernel)",
   "language": "python",
   "name": "python3"
  },
  "language_info": {
   "codemirror_mode": {
    "name": "ipython",
    "version": 3
   },
   "file_extension": ".py",
   "mimetype": "text/x-python",
   "name": "python",
   "nbconvert_exporter": "python",
   "pygments_lexer": "ipython3",
   "version": "3.9.12"
  }
 },
 "nbformat": 4,
 "nbformat_minor": 5
}
